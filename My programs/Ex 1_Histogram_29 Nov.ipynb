{
 "cells": [
  {
   "cell_type": "code",
   "execution_count": 69,
   "id": "42e6a53a",
   "metadata": {},
   "outputs": [],
   "source": [
    "import random as rd\n",
    "import statistics as st\n",
    "from matplotlib import pyplot as plt"
   ]
  },
  {
   "cell_type": "code",
   "execution_count": 111,
   "id": "24afcb8f",
   "metadata": {},
   "outputs": [
    {
     "data": {
      "text/plain": [
       "(array([1.000e+00, 5.000e+00, 3.000e+00, 1.000e+01, 3.000e+00, 1.300e+01,\n",
       "        2.300e+01, 3.100e+01, 5.300e+01, 3.000e+01, 6.900e+01, 8.800e+01,\n",
       "        1.450e+02, 7.000e+01, 1.980e+02, 2.410e+02, 2.880e+02, 3.180e+02,\n",
       "        2.010e+02, 4.410e+02, 5.290e+02, 5.480e+02, 3.490e+02, 7.300e+02,\n",
       "        8.290e+02, 9.240e+02, 9.480e+02, 5.820e+02, 1.234e+03, 1.315e+03,\n",
       "        1.427e+03, 7.320e+02, 1.523e+03, 1.779e+03, 1.769e+03, 1.981e+03,\n",
       "        1.017e+03, 2.145e+03, 2.259e+03, 2.265e+03, 1.180e+03, 2.413e+03,\n",
       "        2.494e+03, 2.595e+03, 2.655e+03, 1.307e+03, 2.701e+03, 2.716e+03,\n",
       "        2.821e+03, 1.393e+03, 2.897e+03, 2.762e+03, 2.752e+03, 2.709e+03,\n",
       "        1.356e+03, 2.589e+03, 2.556e+03, 2.555e+03, 2.410e+03, 1.164e+03,\n",
       "        2.254e+03, 2.172e+03, 2.032e+03, 1.015e+03, 1.975e+03, 1.860e+03,\n",
       "        1.733e+03, 1.542e+03, 6.960e+02, 1.331e+03, 1.325e+03, 1.210e+03,\n",
       "        5.310e+02, 1.027e+03, 9.360e+02, 8.280e+02, 7.520e+02, 3.080e+02,\n",
       "        5.890e+02, 5.030e+02, 4.380e+02, 2.140e+02, 3.150e+02, 2.910e+02,\n",
       "        2.430e+02, 1.730e+02, 7.100e+01, 1.430e+02, 9.800e+01, 7.400e+01,\n",
       "        3.300e+01, 5.200e+01, 3.600e+01, 2.400e+01, 2.100e+01, 5.000e+00,\n",
       "        6.000e+00, 2.000e+00, 0.000e+00, 1.000e+00]),\n",
       " array([ 5.5 ,  6.39,  7.28,  8.17,  9.06,  9.95, 10.84, 11.73, 12.62,\n",
       "        13.51, 14.4 , 15.29, 16.18, 17.07, 17.96, 18.85, 19.74, 20.63,\n",
       "        21.52, 22.41, 23.3 , 24.19, 25.08, 25.97, 26.86, 27.75, 28.64,\n",
       "        29.53, 30.42, 31.31, 32.2 , 33.09, 33.98, 34.87, 35.76, 36.65,\n",
       "        37.54, 38.43, 39.32, 40.21, 41.1 , 41.99, 42.88, 43.77, 44.66,\n",
       "        45.55, 46.44, 47.33, 48.22, 49.11, 50.  , 50.89, 51.78, 52.67,\n",
       "        53.56, 54.45, 55.34, 56.23, 57.12, 58.01, 58.9 , 59.79, 60.68,\n",
       "        61.57, 62.46, 63.35, 64.24, 65.13, 66.02, 66.91, 67.8 , 68.69,\n",
       "        69.58, 70.47, 71.36, 72.25, 73.14, 74.03, 74.92, 75.81, 76.7 ,\n",
       "        77.59, 78.48, 79.37, 80.26, 81.15, 82.04, 82.93, 83.82, 84.71,\n",
       "        85.6 , 86.49, 87.38, 88.27, 89.16, 90.05, 90.94, 91.83, 92.72,\n",
       "        93.61, 94.5 ]),\n",
       " <BarContainer object of 100 artists>)"
      ]
     },
     "execution_count": 111,
     "metadata": {},
     "output_type": "execute_result"
    },
    {
     "data": {
      "image/png": "[encoded data removed]",
      "text/plain": [
       "<Figure size 432x288 with 1 Axes>"
      ]
     },
     "metadata": {
      "needs_background": "light"
     },
     "output_type": "display_data"
    },
    {
     "data": {
      "image/png": "[encoded data removed]",
      "text/plain": [
       "<Figure size 432x288 with 1 Axes>"
      ]
     },
     "metadata": {
      "needs_background": "light"
     },
     "output_type": "display_data"
    }
   ],
   "source": [
    "#Initialising the lists for mean and median so that they are empty everytime the code runs\n",
    "medianlist = []\n",
    "meanlist = []\n",
    "\n",
    "#using a for loop to generate 10,0000 random samples\n",
    "for i in range(100000):\n",
    "    # using the randrange function to generate a random number from 1 to 100 and then \n",
    "    # organising it into a list of 10 random numbers\n",
    "    res = [rd.randrange(1, 100) for i in range(10)]\n",
    "    #finding the median of the numbers\n",
    "    mdn = st.median(res)\n",
    "    #generating a list of all the medians so that it can be plotted later\n",
    "    medianlist.append(mdn)\n",
    "    #finding the mean of the numbers\n",
    "    mn = st.mean(res)\n",
    "    #generating a list of all the means so that it can be plotted later\n",
    "    meanlist.append(mn)\n",
    "    \n",
    "#print(medianlist)\n",
    "#print(meanlist)\n",
    "\n",
    "#plotting the histogram for mean\n",
    "fig, ax = plt.subplots()\n",
    "ax.set_title(\"Histogram for all the means\")\n",
    "ax.hist(meanlist, edgecolor=\"black\", color=\"pink\", bins = 100)\n",
    "\n",
    "#plotting the histogram for median\n",
    "fig, ax = plt.subplots()\n",
    "ax.set_title(\"Histogram for all the medians\")\n",
    "ax.hist(medianlist, edgecolor=\"black\", color=\"lightblue\", bins = 100)\n"
   ]
  },
  {
   "cell_type": "code",
   "execution_count": 109,
   "id": "bba5c552",
   "metadata": {},
   "outputs": [],
   "source": [
    "ax.hist?"
   ]
  },
  {
   "cell_type": "code",
   "execution_count": null,
   "id": "03502871",
   "metadata": {},
   "outputs": [],
   "source": []
  }
 ],
 "metadata": {
  "kernelspec": {
   "display_name": "Python 3",
   "language": "python",
   "name": "python3"
  },
  "language_info": {
   "codemirror_mode": {
    "name": "ipython",
    "version": 3
   },
   "file_extension": ".py",
   "mimetype": "text/x-python",
   "name": "python",
   "nbconvert_exporter": "python",
   "pygments_lexer": "ipython3",
   "version": "3.8.8"
  }
 },
 "nbformat": 4,
 "nbformat_minor": 5
}
